{
  "cells": [
    {
      "cell_type": "code",
      "execution_count": 1,
      "metadata": {
        "id": "3-jE1lqYjouD"
      },
      "outputs": [],
      "source": [
        "# Necessary imports\n",
        "import pandas as pd\n",
        "from sklearn.preprocessing import StandardScaler, OneHotEncoder\n",
        "from sklearn.compose import ColumnTransformer\n",
        "from sklearn.pipeline import Pipeline\n",
        "from sklearn.model_selection import KFold\n",
        "from sklearn.metrics import roc_auc_score\n",
        "import numpy as np"
      ]
    },
    {
      "cell_type": "code",
      "execution_count": 3,
      "metadata": {
        "id": "XdHuxGJsjouE"
      },
      "outputs": [],
      "source": [
        "# Define the KNN class\n",
        "class KNN:\n",
        "    def __init__(self, k=3, distance_metric='euclidean'):\n",
        "        self.k = k\n",
        "        self.distance_metric = distance_metric\n",
        "        self.X_train = None\n",
        "        self.y_train = None\n",
        "\n",
        "    def fit(self, X, y):\n",
        "        self.X_train = np.array(X)\n",
        "        self.y_train = np.array(y)\n",
        "\n",
        "    def predict(self, X):\n",
        "        X = np.array(X)\n",
        "        results = []\n",
        "        for x in X:\n",
        "            distances = self.compute_distance(self.X_train, x)\n",
        "            k_indices = np.argsort(distances)[:self.k]\n",
        "            k_nearest_labels = self.y_train[k_indices]\n",
        "            results.append(np.bincount(k_nearest_labels.astype(int)).argmax())\n",
        "        return np.array(results)\n",
        "\n",
        "    def compute_distance(self, X1, X2):\n",
        "        if self.distance_metric == 'euclidean':\n",
        "            return np.linalg.norm(X1 - X2, axis=1)\n",
        "        elif self.distance_metric == 'manhattan':\n",
        "            return np.sum(np.abs(X1 - X2), axis=1)\n",
        "        else:\n",
        "            raise ValueError(\"Unsupported distance metric\")"
      ]
    },
    {
      "cell_type": "code",
      "execution_count": 4,
      "metadata": {
        "id": "OwsW5ojjjouF"
      },
      "outputs": [],
      "source": [
        "def preprocess_data(train_path, test_path):\n",
        "    # Load the datasets\n",
        "    train_data = pd.read_csv(train_path)\n",
        "    test_data = pd.read_csv(test_path)\n",
        "\n",
        "    # Drop less relevant columns such as 'id', 'CustomerId', and 'Surname'\n",
        "    drop_columns = ['id', 'CustomerId', 'Surname']\n",
        "    train_data.drop(drop_columns, axis=1, inplace=True)\n",
        "    test_data.drop(drop_columns, axis=1, inplace=True)\n",
        "\n",
        "    # Extract labels\n",
        "    y_train = train_data['Exited']\n",
        "    X_train = train_data.drop('Exited', axis=1)\n",
        "    X_test = test_data\n",
        "\n",
        "    # Handle categorical columns using OneHotEncoder\n",
        "    categorical_columns = ['Geography', 'Gender']\n",
        "    numerical_columns = ['CreditScore', 'Age', 'Tenure', 'Balance', 'NumOfProducts', 'HasCrCard', 'IsActiveMember', 'EstimatedSalary']\n",
        "\n",
        "    # Define transformers for preprocessing\n",
        "    categorical_transformer = OneHotEncoder(handle_unknown='ignore')\n",
        "    numerical_transformer = StandardScaler()\n",
        "\n",
        "    # Combine transformers into a ColumnTransformer\n",
        "    preprocessor = ColumnTransformer(\n",
        "        transformers=[\n",
        "            ('num', numerical_transformer, numerical_columns),\n",
        "            ('cat', categorical_transformer, categorical_columns)])\n",
        "\n",
        "    # Fit the preprocessor on the training data and transform both train and test sets\n",
        "    X_train = preprocessor.fit_transform(X_train)\n",
        "    X_test = preprocessor.transform(X_test)\n",
        "\n",
        "    return X_train, y_train, X_test"
      ]
    },
    {
      "cell_type": "code",
      "execution_count": 5,
      "metadata": {
        "id": "BVUbrz6AjouF"
      },
      "outputs": [],
      "source": [
        "\n",
        "def cross_validate(X, y, knn, n_splits=5):\n",
        "    kf = KFold(n_splits=n_splits, shuffle=True, random_state=42)\n",
        "    auc_scores = []\n",
        "\n",
        "    X = np.array(X)\n",
        "    y = np.array(y)\n",
        "\n",
        "    for train_index, test_index in kf.split(X):\n",
        "        X_train, X_test = X[train_index], X[test_index]\n",
        "        y_train, y_test = y[train_index], y[test_index]\n",
        "\n",
        "        knn.fit(X_train, y_train)\n",
        "        y_pred = knn.predict(X_test)\n",
        "\n",
        "        auc = roc_auc_score(y_test, y_pred)\n",
        "        auc_scores.append(auc)\n",
        "\n",
        "    return np.mean(auc_scores), auc_scores"
      ]
    },
    {
      "cell_type": "code",
      "execution_count": 18,
      "metadata": {
        "colab": {
          "base_uri": "https://localhost:8080/"
        },
        "id": "eqbHatcEjouF",
        "outputId": "3e3a4731-9004-40e4-e65d-6fe8930f8247"
      },
      "outputs": [
        {
          "output_type": "stream",
          "name": "stdout",
          "text": [
            "Cross-validation AUC scores: [0.7364538586876018, 0.7207187316642371, 0.7366242979603901]\n",
            "Mean AUC score: 0.7312656294374097\n",
            "Optimal k found: 11 with AUC: 0.7320847119628038\n",
            "Number of test predictions: 10000\n",
            "Number of test IDs: 10000\n",
            "Duplicates found in submission. Removing duplicates.\n",
            "Submission saved!\n"
          ]
        }
      ],
      "source": [
        "X, y, X_test = preprocess_data('train.csv', 'test.csv')\n",
        "\n",
        "# Create and evaluate model\n",
        "knn = KNN(k=5, distance_metric='euclidean')\n",
        "\n",
        "# Sample a fraction of the dataset for testing (20% of the data)\n",
        "X_sampled = pd.DataFrame(X).sample(frac=0.2, random_state=42)\n",
        "y_sampled = y.loc[X_sampled.index]\n",
        "\n",
        "# Perform cross-validation with the smaller subset\n",
        "mean_auc, auc_scores = cross_validate(X_sampled, y_sampled, knn, n_splits=3)\n",
        "print(\"Cross-validation AUC scores:\", auc_scores)\n",
        "print(\"Mean AUC score:\", mean_auc)\n",
        "\n",
        "# Hyperparameter tuning (exploring different values for k)\n",
        "best_k = 5\n",
        "best_auc = mean_auc\n",
        "\n",
        "for k in range(1, 21):  # Test different values for k (1 to 20)\n",
        "    knn = KNN(k=k, distance_metric='euclidean')\n",
        "    mean_auc, _ = cross_validate(X_sampled, y_sampled, knn, n_splits=3)\n",
        "    if mean_auc > best_auc:\n",
        "        best_auc = mean_auc\n",
        "        best_k = k\n",
        "\n",
        "print(f\"Optimal k found: {best_k} with AUC: {best_auc}\")\n",
        "\n",
        "# Train on the full dataset with optimal hyperparameters and make predictions on the test set\n",
        "knn = KNN(k=best_k, distance_metric='euclidean')\n",
        "knn.fit(np.array(X), np.array(y))\n",
        "test_predictions = knn.predict(np.array(X_test))\n",
        "\n",
        "# Save test predictions to match the submission format\n",
        "test_ids = pd.read_csv('test.csv')['CustomerId']\n",
        "\n",
        "# Check the lengths of test_predictions and test_ids\n",
        "print(f\"Number of test predictions: {len(test_predictions)}\")\n",
        "print(f\"Number of test IDs: {len(test_ids)}\")\n",
        "\n",
        "# Ensure the number of rows matches 10,000\n",
        "if len(test_predictions) != len(test_ids):\n",
        "    print(f\"Error: The number of predictions ({len(test_predictions)}) does not match the number of test IDs ({len(test_ids)}).\")\n",
        "else:\n",
        "    submission = pd.DataFrame({'id': test_ids, 'Exited': test_predictions})\n",
        "\n",
        "    # Check for and remove duplicate IDs\n",
        "    if submission['id'].duplicated().sum() > 0:\n",
        "        print(\"Duplicates found in submission. Removing duplicates.\")\n",
        "        submission = submission.drop_duplicates(subset='id')\n",
        "\n",
        "    # Save the cleaned submission file\n",
        "    submission.to_csv('submissions.csv', index=False)\n",
        "\n",
        "    print(\"Submission saved!\")\n"
      ]
    },
    {
      "cell_type": "code",
      "source": [
        "from google.colab import files\n",
        "files.download('submissions.csv')"
      ],
      "metadata": {
        "colab": {
          "base_uri": "https://localhost:8080/",
          "height": 17
        },
        "id": "pcqAJ0FX9nlw",
        "outputId": "36f455da-f0c8-4a75-80c9-e42c68b34478"
      },
      "execution_count": 17,
      "outputs": [
        {
          "output_type": "display_data",
          "data": {
            "text/plain": [
              "<IPython.core.display.Javascript object>"
            ],
            "application/javascript": [
              "\n",
              "    async function download(id, filename, size) {\n",
              "      if (!google.colab.kernel.accessAllowed) {\n",
              "        return;\n",
              "      }\n",
              "      const div = document.createElement('div');\n",
              "      const label = document.createElement('label');\n",
              "      label.textContent = `Downloading \"${filename}\": `;\n",
              "      div.appendChild(label);\n",
              "      const progress = document.createElement('progress');\n",
              "      progress.max = size;\n",
              "      div.appendChild(progress);\n",
              "      document.body.appendChild(div);\n",
              "\n",
              "      const buffers = [];\n",
              "      let downloaded = 0;\n",
              "\n",
              "      const channel = await google.colab.kernel.comms.open(id);\n",
              "      // Send a message to notify the kernel that we're ready.\n",
              "      channel.send({})\n",
              "\n",
              "      for await (const message of channel.messages) {\n",
              "        // Send a message to notify the kernel that we're ready.\n",
              "        channel.send({})\n",
              "        if (message.buffers) {\n",
              "          for (const buffer of message.buffers) {\n",
              "            buffers.push(buffer);\n",
              "            downloaded += buffer.byteLength;\n",
              "            progress.value = downloaded;\n",
              "          }\n",
              "        }\n",
              "      }\n",
              "      const blob = new Blob(buffers, {type: 'application/binary'});\n",
              "      const a = document.createElement('a');\n",
              "      a.href = window.URL.createObjectURL(blob);\n",
              "      a.download = filename;\n",
              "      div.appendChild(a);\n",
              "      a.click();\n",
              "      div.remove();\n",
              "    }\n",
              "  "
            ]
          },
          "metadata": {}
        },
        {
          "output_type": "display_data",
          "data": {
            "text/plain": [
              "<IPython.core.display.Javascript object>"
            ],
            "application/javascript": [
              "download(\"download_ae985d5d-b74f-4055-bc54-74e0e8a45981\", \"submissions.csv\", 66804)"
            ]
          },
          "metadata": {}
        }
      ]
    }
  ],
  "metadata": {
    "kernelspec": {
      "display_name": "cs506",
      "language": "python",
      "name": "python3"
    },
    "language_info": {
      "codemirror_mode": {
        "name": "ipython",
        "version": 3
      },
      "file_extension": ".py",
      "mimetype": "text/x-python",
      "name": "python",
      "nbconvert_exporter": "python",
      "pygments_lexer": "ipython3",
      "version": "3.10.15"
    },
    "colab": {
      "provenance": []
    }
  },
  "nbformat": 4,
  "nbformat_minor": 0
}